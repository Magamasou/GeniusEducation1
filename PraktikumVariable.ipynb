{
 "cells": [
  {
   "cell_type": "markdown",
   "id": "f6f1f2a7",
   "metadata": {},
   "source": [
    "## Nama : Adhe Firmansyah"
   ]
  },
  {
   "cell_type": "markdown",
   "id": "ad57a4c2",
   "metadata": {},
   "source": [
    "## Praktikum variable assignment"
   ]
  },
  {
   "cell_type": "code",
   "execution_count": 1,
   "id": "9ac2e910",
   "metadata": {},
   "outputs": [],
   "source": [
    "tabungan = 1000000"
   ]
  },
  {
   "cell_type": "code",
   "execution_count": 2,
   "id": "a639d1dd",
   "metadata": {},
   "outputs": [
    {
     "data": {
      "text/plain": [
       "1000000"
      ]
     },
     "execution_count": 2,
     "metadata": {},
     "output_type": "execute_result"
    }
   ],
   "source": [
    "tabungan"
   ]
  },
  {
   "cell_type": "code",
   "execution_count": 3,
   "id": "ba44f373",
   "metadata": {},
   "outputs": [],
   "source": [
    "belanja = 10000"
   ]
  },
  {
   "cell_type": "code",
   "execution_count": 4,
   "id": "058ed92c",
   "metadata": {},
   "outputs": [],
   "source": [
    "pengeluaran = 6 * belanja"
   ]
  },
  {
   "cell_type": "code",
   "execution_count": 5,
   "id": "4ccba60e",
   "metadata": {},
   "outputs": [
    {
     "data": {
      "text/plain": [
       "60000"
      ]
     },
     "execution_count": 5,
     "metadata": {},
     "output_type": "execute_result"
    }
   ],
   "source": [
    "pengeluaran"
   ]
  },
  {
   "cell_type": "markdown",
   "id": "97e4c254",
   "metadata": {},
   "source": [
    "## Praktikum Data Numeric"
   ]
  },
  {
   "cell_type": "code",
   "execution_count": 6,
   "id": "3dde51e2",
   "metadata": {},
   "outputs": [],
   "source": [
    "x = 7\n",
    "y = 1.5"
   ]
  },
  {
   "cell_type": "code",
   "execution_count": 7,
   "id": "901170f5",
   "metadata": {},
   "outputs": [
    {
     "data": {
      "text/plain": [
       "(7, int)"
      ]
     },
     "execution_count": 7,
     "metadata": {},
     "output_type": "execute_result"
    }
   ],
   "source": [
    "x, type(x)"
   ]
  },
  {
   "cell_type": "code",
   "execution_count": 8,
   "id": "be783491",
   "metadata": {},
   "outputs": [
    {
     "data": {
      "text/plain": [
       "(1.5, float)"
      ]
     },
     "execution_count": 8,
     "metadata": {},
     "output_type": "execute_result"
    }
   ],
   "source": [
    "y, type(y)"
   ]
  },
  {
   "cell_type": "code",
   "execution_count": 9,
   "id": "9a1ab9bc",
   "metadata": {},
   "outputs": [
    {
     "name": "stdout",
     "output_type": "stream",
     "text": [
      "8.5\n"
     ]
    }
   ],
   "source": [
    "print(x+y)"
   ]
  },
  {
   "cell_type": "code",
   "execution_count": 11,
   "id": "2bad85ab",
   "metadata": {},
   "outputs": [
    {
     "name": "stdout",
     "output_type": "stream",
     "text": [
      "5.5\n"
     ]
    }
   ],
   "source": [
    "print(x-y)"
   ]
  },
  {
   "cell_type": "code",
   "execution_count": 12,
   "id": "c25be07a",
   "metadata": {},
   "outputs": [
    {
     "name": "stdout",
     "output_type": "stream",
     "text": [
      "10.5\n"
     ]
    }
   ],
   "source": [
    "print(x * y)"
   ]
  },
  {
   "cell_type": "code",
   "execution_count": 13,
   "id": "5c695a66",
   "metadata": {},
   "outputs": [
    {
     "name": "stdout",
     "output_type": "stream",
     "text": [
      "4.666666666666667\n"
     ]
    }
   ],
   "source": [
    "print(x / y)"
   ]
  },
  {
   "cell_type": "code",
   "execution_count": 14,
   "id": "dc88363c",
   "metadata": {},
   "outputs": [
    {
     "name": "stdout",
     "output_type": "stream",
     "text": [
      "1.0\n"
     ]
    }
   ],
   "source": [
    "print(x % y)"
   ]
  },
  {
   "cell_type": "code",
   "execution_count": 15,
   "id": "e60fe21c",
   "metadata": {},
   "outputs": [
    {
     "name": "stdout",
     "output_type": "stream",
     "text": [
      "18.520259177452136\n"
     ]
    }
   ],
   "source": [
    "print(x ** y)"
   ]
  },
  {
   "cell_type": "code",
   "execution_count": 16,
   "id": "fcb5e146",
   "metadata": {},
   "outputs": [
    {
     "name": "stdout",
     "output_type": "stream",
     "text": [
      "4.0\n"
     ]
    }
   ],
   "source": [
    "print(x // y)"
   ]
  },
  {
   "cell_type": "markdown",
   "id": "f4097127",
   "metadata": {},
   "source": [
    "## Praktikum Data Boolean"
   ]
  },
  {
   "cell_type": "code",
   "execution_count": 19,
   "id": "d82cee43",
   "metadata": {},
   "outputs": [],
   "source": [
    "t = True\n",
    "f = False"
   ]
  },
  {
   "cell_type": "code",
   "execution_count": 20,
   "id": "3b32365c",
   "metadata": {},
   "outputs": [
    {
     "name": "stdout",
     "output_type": "stream",
     "text": [
      "False\n"
     ]
    }
   ],
   "source": [
    "print(t and f)"
   ]
  },
  {
   "cell_type": "code",
   "execution_count": 21,
   "id": "c73ce985",
   "metadata": {},
   "outputs": [
    {
     "name": "stdout",
     "output_type": "stream",
     "text": [
      "True\n"
     ]
    }
   ],
   "source": [
    "print(t or f)"
   ]
  },
  {
   "cell_type": "code",
   "execution_count": 25,
   "id": "beb8bd56",
   "metadata": {},
   "outputs": [
    {
     "name": "stdout",
     "output_type": "stream",
     "text": [
      "True\n"
     ]
    }
   ],
   "source": [
    "print(t ^ f)"
   ]
  },
  {
   "cell_type": "code",
   "execution_count": 27,
   "id": "93040fda",
   "metadata": {},
   "outputs": [
    {
     "name": "stdout",
     "output_type": "stream",
     "text": [
      "False\n"
     ]
    }
   ],
   "source": [
    "print(not t)"
   ]
  },
  {
   "cell_type": "code",
   "execution_count": 28,
   "id": "4d35058e",
   "metadata": {},
   "outputs": [
    {
     "name": "stdout",
     "output_type": "stream",
     "text": [
      "True\n"
     ]
    }
   ],
   "source": [
    "print(not f)"
   ]
  },
  {
   "cell_type": "markdown",
   "id": "6d858ff4",
   "metadata": {},
   "source": [
    "## Praktikum data string"
   ]
  },
  {
   "cell_type": "code",
   "execution_count": 29,
   "id": "88e8947e",
   "metadata": {},
   "outputs": [],
   "source": [
    "nama = \"Anton\"\n",
    "pekerjaan = \"Mahasiswa\""
   ]
  },
  {
   "cell_type": "code",
   "execution_count": 35,
   "id": "7f758730",
   "metadata": {},
   "outputs": [
    {
     "name": "stdout",
     "output_type": "stream",
     "text": [
      "Nama saya Anton dan pekerjaan saya adalah Mahasiswa\n"
     ]
    }
   ],
   "source": [
    "print(\"Nama saya \" +nama+ \" dan pekerjaan saya adalah \"+pekerjaan)"
   ]
  },
  {
   "cell_type": "markdown",
   "id": "3f44d14a",
   "metadata": {},
   "source": [
    "## Praktikum Variable"
   ]
  },
  {
   "cell_type": "code",
   "execution_count": 38,
   "id": "0ab6b041",
   "metadata": {},
   "outputs": [
    {
     "name": "stdout",
     "output_type": "stream",
     "text": [
      "How old are u .. ??30\n"
     ]
    }
   ],
   "source": [
    "age = input(\"How old are u .. ??\")"
   ]
  },
  {
   "cell_type": "code",
   "execution_count": 40,
   "id": "9f409724",
   "metadata": {},
   "outputs": [
    {
     "name": "stdout",
     "output_type": "stream",
     "text": [
      "Dimanakah anda tinggal?Indonesia\n",
      "Saya tinggal di Negara Indonesia\n"
     ]
    }
   ],
   "source": [
    "negara = input(\"Dimanakah anda tinggal?\")\n",
    "print(\"Saya tinggal di Negara \"+negara)"
   ]
  },
  {
   "cell_type": "code",
   "execution_count": null,
   "id": "c2c2bc8c",
   "metadata": {},
   "outputs": [],
   "source": []
  }
 ],
 "metadata": {
  "kernelspec": {
   "display_name": "Python 3",
   "language": "python",
   "name": "python3"
  },
  "language_info": {
   "codemirror_mode": {
    "name": "ipython",
    "version": 3
   },
   "file_extension": ".py",
   "mimetype": "text/x-python",
   "name": "python",
   "nbconvert_exporter": "python",
   "pygments_lexer": "ipython3",
   "version": "3.8.5"
  }
 },
 "nbformat": 4,
 "nbformat_minor": 5
}
