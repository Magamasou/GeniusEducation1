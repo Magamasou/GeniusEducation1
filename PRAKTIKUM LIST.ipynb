{
 "cells": [
  {
   "cell_type": "markdown",
   "id": "45d3619a",
   "metadata": {},
   "source": [
    "#KONSEP DARI KOLEKSI"
   ]
  },
  {
   "cell_type": "code",
   "execution_count": 63,
   "id": "5e8085b5",
   "metadata": {},
   "outputs": [
    {
     "name": "stdout",
     "output_type": "stream",
     "text": [
      "1. Menampilkan angka 2:  2\n",
      "2. Mengubah angka 2 menjadi  7\n"
     ]
    }
   ],
   "source": [
    "a=(6,5,4,[1,2,3])\n",
    "print(\"1. Menampilkan angka 2: \", a[3][1])\n",
    "a[3][1]=7\n",
    "print(\"2. Mengubah angka 2 menjadi \", a[3][1])"
   ]
  },
  {
   "cell_type": "markdown",
   "id": "3fa0457a",
   "metadata": {},
   "source": [
    "#LIST DAN LOOP"
   ]
  },
  {
   "cell_type": "code",
   "execution_count": 64,
   "id": "f59b84ff",
   "metadata": {},
   "outputs": [
    {
     "name": "stdout",
     "output_type": "stream",
     "text": [
      "3.  1\n",
      "3.  5\n",
      "3.  15\n",
      "3.  20\n"
     ]
    }
   ],
   "source": [
    "angka= [1,4,10,5]\n",
    "total=0\n",
    "for i in angka:\n",
    "    total+=i\n",
    "    \n",
    "    print(\"3. \", total)"
   ]
  },
  {
   "cell_type": "markdown",
   "id": "aba69877",
   "metadata": {},
   "source": [
    "#LIST MUTABILITY"
   ]
  },
  {
   "cell_type": "code",
   "execution_count": 65,
   "id": "1db66790",
   "metadata": {},
   "outputs": [
    {
     "name": "stdout",
     "output_type": "stream",
     "text": [
      "4. Mengubah index 1 menjadi  1\n",
      "5. Mengubah angka 2 menjadi  7\n"
     ]
    }
   ],
   "source": [
    "nomor=[1,4,6,8,0]\n",
    "nomor[1]=88\n",
    "print(\"4. Mengubah index 1 menjadi \", nomor[0])\n",
    "\n",
    "a=(11,6,4,[1,2,3])\n",
    "a[3][1]=7\n",
    "print(\"5. Mengubah angka 2 menjadi \", a[3][1])"
   ]
  },
  {
   "cell_type": "markdown",
   "id": "c22ea588",
   "metadata": {},
   "source": [
    "#FUNGSI DARI LIST"
   ]
  },
  {
   "cell_type": "code",
   "execution_count": 76,
   "id": "6523ccb1",
   "metadata": {},
   "outputs": [
    {
     "name": "stdout",
     "output_type": "stream",
     "text": [
      "6. Angka terendah dari list  5\n",
      "7. Angka tertingggi dari list 102\n"
     ]
    }
   ],
   "source": [
    "list_angka=[11,5,70,102,12.4,9]\n",
    "print(\"6. Angka terendah dari list \", min(list_angka))\n",
    "\n",
    "print(\"7. Angka tertingggi dari list\" ,max(list_angka))"
   ]
  },
  {
   "cell_type": "markdown",
   "id": "1251a67e",
   "metadata": {},
   "source": [
    "#SORTING LIST"
   ]
  },
  {
   "cell_type": "code",
   "execution_count": 78,
   "id": "5a2edbf3",
   "metadata": {},
   "outputs": [
    {
     "name": "stdout",
     "output_type": "stream",
     "text": [
      "8. Sort Ascending:  [2, 7, 11.3, 44, 80, 105]\n",
      "9. Sort Descending:  [105, 80, 44, 11.3, 7, 2]\n"
     ]
    }
   ],
   "source": [
    "list_angka=[44,2,80,105,11.3,7]\n",
    "list_angka.sort(reverse=False)\n",
    "print(\"8. Sort Ascending: \", list_angka)\n",
    "list_angka.sort(reverse=True)\n",
    "print(\"9. Sort Descending: \", list_angka)"
   ]
  },
  {
   "cell_type": "markdown",
   "id": "55e7c854",
   "metadata": {},
   "source": [
    "#SPLITTING STRING KE DALAM LIST"
   ]
  },
  {
   "cell_type": "code",
   "execution_count": 108,
   "id": "09ef4e7d",
   "metadata": {},
   "outputs": [
    {
     "name": "stdout",
     "output_type": "stream",
     "text": [
      "10. ['H', 'e', 'l', 'l', 'o']\n",
      "Length: 5\n",
      "11. ['Apel', 'Anggur', 'Pisang', 'Mangga', 'Jambu']\n"
     ]
    }
   ],
   "source": [
    "karakter=\"H e l l o\"\n",
    "a=karakter.split()\n",
    "print(\"10.\", a)\n",
    "\n",
    "buah=\"Apel,Anggur,Pisang,Mangga,Jambu\"\n",
    "b=buah.split(',')\n",
    "print(\"Length:\", len(b))\n",
    "print(\"11.\", b)"
   ]
  }
 ],
 "metadata": {
  "kernelspec": {
   "display_name": "Python 3 (ipykernel)",
   "language": "python",
   "name": "python3"
  },
  "language_info": {
   "codemirror_mode": {
    "name": "ipython",
    "version": 3
   },
   "file_extension": ".py",
   "mimetype": "text/x-python",
   "name": "python",
   "nbconvert_exporter": "python",
   "pygments_lexer": "ipython3",
   "version": "3.9.12"
  }
 },
 "nbformat": 4,
 "nbformat_minor": 5
}
