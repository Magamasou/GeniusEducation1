{
 "cells": [
  {
   "cell_type": "markdown",
   "id": "253791ca",
   "metadata": {},
   "source": [
    "## 01 Konsep dari Koleksi"
   ]
  },
  {
   "cell_type": "code",
   "execution_count": 35,
   "id": "a786aef9",
   "metadata": {},
   "outputs": [
    {
     "name": "stdout",
     "output_type": "stream",
     "text": [
      "2\n"
     ]
    }
   ],
   "source": [
    "#Lengkapi kode berikut sehingga kode tersebut menampilkan angka 2\n",
    "\n",
    "a=(6,5,4,[1,2,3])\n",
    "for a in [2] :\n",
    "    print(a)"
   ]
  },
  {
   "cell_type": "code",
   "execution_count": 37,
   "id": "93bb08aa",
   "metadata": {},
   "outputs": [
    {
     "name": "stdout",
     "output_type": "stream",
     "text": [
      "7\n"
     ]
    }
   ],
   "source": [
    "#Lengkapi kode berikut sehingga kode tersebut untuk mengubah angka 2 menjadi angka 7 dan tampilkan angka tersebut\n",
    "\n",
    "a=(6,5,4,[1,2,3])\n",
    "a[3][1] = 7\n",
    "print(a[3][1])"
   ]
  },
  {
   "cell_type": "markdown",
   "id": "4683841c",
   "metadata": {},
   "source": [
    "## 02 List dan Loop"
   ]
  },
  {
   "cell_type": "code",
   "execution_count": 7,
   "id": "ac0396b3",
   "metadata": {},
   "outputs": [
    {
     "name": "stdout",
     "output_type": "stream",
     "text": [
      "1\n",
      "4\n",
      "10\n",
      "5\n",
      "20\n"
     ]
    }
   ],
   "source": [
    "#Lengkapi program berikut untuk menjumlahkan angka berikut sehingga mendapatkan total dari angka yang di dalam list\n",
    "\n",
    "angka=[1,4,10,5]\n",
    "total= 0\n",
    "for i in angka:\n",
    "    print(i)\n",
    "print(sum(angka))"
   ]
  },
  {
   "cell_type": "code",
   "execution_count": 3,
   "id": "ba20358b",
   "metadata": {},
   "outputs": [
    {
     "name": "stdout",
     "output_type": "stream",
     "text": [
      "[2, 4, 5, 6, 8]\n",
      "25\n"
     ]
    }
   ],
   "source": [
    "x = [2,4,5,6,8]\n",
    "print(x)\n",
    "print(sum(x))"
   ]
  },
  {
   "cell_type": "markdown",
   "id": "82e7f62c",
   "metadata": {},
   "source": [
    "## 03 List Mutability"
   ]
  },
  {
   "cell_type": "code",
   "execution_count": 47,
   "id": "e156db51",
   "metadata": {},
   "outputs": [
    {
     "name": "stdout",
     "output_type": "stream",
     "text": [
      "[1, 4, 6, 8, 0]\n"
     ]
    }
   ],
   "source": [
    "nomor=[1,4,6,8,0]\n",
    "print(nomor)"
   ]
  },
  {
   "cell_type": "code",
   "execution_count": 49,
   "id": "a33b9532",
   "metadata": {},
   "outputs": [
    {
     "name": "stdout",
     "output_type": "stream",
     "text": [
      "[1, 88, 6, 8, 0]\n"
     ]
    }
   ],
   "source": [
    "nomor[1]=88\n",
    "print(nomor)"
   ]
  },
  {
   "cell_type": "code",
   "execution_count": 50,
   "id": "8114a3ca",
   "metadata": {},
   "outputs": [
    {
     "data": {
      "text/plain": [
       "88"
      ]
     },
     "execution_count": 50,
     "metadata": {},
     "output_type": "execute_result"
    }
   ],
   "source": [
    "nomor[1]"
   ]
  },
  {
   "cell_type": "markdown",
   "id": "1a5391c7",
   "metadata": {},
   "source": [
    "## 04 Fungsi dari List"
   ]
  },
  {
   "cell_type": "code",
   "execution_count": 51,
   "id": "323ca63f",
   "metadata": {},
   "outputs": [
    {
     "name": "stdout",
     "output_type": "stream",
     "text": [
      "102\n"
     ]
    }
   ],
   "source": [
    "#Tulis program python untuk menampilkan angka paling tinggi dari list angka di bawah ini\n",
    "\n",
    "list_angka=[11,5,70,102,12,4,9]\n",
    "print(max(list_angka))"
   ]
  },
  {
   "cell_type": "code",
   "execution_count": null,
   "id": "0872b8bd",
   "metadata": {},
   "outputs": [],
   "source": [
    "#Tulis program python untuk menampilkan angka paling tinggi"
   ]
  },
  {
   "cell_type": "markdown",
   "id": "813edc1d",
   "metadata": {},
   "source": [
    "## 05 Sorting List"
   ]
  },
  {
   "cell_type": "code",
   "execution_count": 76,
   "id": "f15e5462",
   "metadata": {},
   "outputs": [
    {
     "name": "stdout",
     "output_type": "stream",
     "text": [
      "[2, 3, 7, 11, 44, 80, 105]\n"
     ]
    }
   ],
   "source": [
    "#Sortir Ascending\n",
    "\n",
    "list_angka=[44,2,80,105,11,3,7]\n",
    "list_angka.sort()\n",
    "print(list_angka)"
   ]
  },
  {
   "cell_type": "code",
   "execution_count": null,
   "id": "62f3edd9",
   "metadata": {},
   "outputs": [],
   "source": [
    "#Sortir Descending\n",
    "\n",
    "list_angka=[44,2,80,105,11,3,7]"
   ]
  },
  {
   "cell_type": "markdown",
   "id": "64a3f32d",
   "metadata": {},
   "source": [
    "## 06 Splitting String ke Dalam List"
   ]
  },
  {
   "cell_type": "code",
   "execution_count": 10,
   "id": "26135092",
   "metadata": {},
   "outputs": [
    {
     "name": "stdout",
     "output_type": "stream",
     "text": [
      "['H', 'e', 'l', 'l', 'o']\n"
     ]
    }
   ],
   "source": [
    "#Tuliskan program python untuk mengganti list karakter di bawah ini ke dalam output string Hello\n",
    "\n",
    "karakter=['H','e','l','l','o']\n",
    "print(karakter)"
   ]
  },
  {
   "cell_type": "code",
   "execution_count": 12,
   "id": "9019cb68",
   "metadata": {},
   "outputs": [
    {
     "ename": "AttributeError",
     "evalue": "'list' object has no attribute 'split'",
     "output_type": "error",
     "traceback": [
      "\u001b[1;31m---------------------------------------------------------------------------\u001b[0m",
      "\u001b[1;31mAttributeError\u001b[0m                            Traceback (most recent call last)",
      "Input \u001b[1;32mIn [12]\u001b[0m, in \u001b[0;36m<cell line: 1>\u001b[1;34m()\u001b[0m\n\u001b[1;32m----> 1\u001b[0m x \u001b[38;5;241m=\u001b[39m \u001b[43mkarakter\u001b[49m\u001b[38;5;241;43m.\u001b[39;49m\u001b[43msplit\u001b[49m(\u001b[38;5;124m'\u001b[39m\u001b[38;5;124m,\u001b[39m\u001b[38;5;124m'\u001b[39m)\n\u001b[0;32m      2\u001b[0m \u001b[38;5;28mprint\u001b[39m(x)\n",
      "\u001b[1;31mAttributeError\u001b[0m: 'list' object has no attribute 'split'"
     ]
    }
   ],
   "source": [
    "x = karakter.split(',')\n",
    "print(x)"
   ]
  },
  {
   "cell_type": "code",
   "execution_count": 13,
   "id": "b9e907d8",
   "metadata": {},
   "outputs": [
    {
     "name": "stdout",
     "output_type": "stream",
     "text": [
      "['Apel', 'Anggur', 'Pisang', 'Mangga', 'Jambu']\n"
     ]
    }
   ],
   "source": [
    "#Tuliskan program python untuk menggabungkan list buah di bawah ini dengan simbol \"-\"\n",
    "\n",
    "buah=['Apel','Anggur','Pisang','Mangga','Jambu']\n",
    "print(buah)"
   ]
  },
  {
   "cell_type": "code",
   "execution_count": 9,
   "id": "80a6385a",
   "metadata": {},
   "outputs": [
    {
     "ename": "AttributeError",
     "evalue": "'list' object has no attribute 'split'",
     "output_type": "error",
     "traceback": [
      "\u001b[1;31m---------------------------------------------------------------------------\u001b[0m",
      "\u001b[1;31mAttributeError\u001b[0m                            Traceback (most recent call last)",
      "Input \u001b[1;32mIn [9]\u001b[0m, in \u001b[0;36m<cell line: 1>\u001b[1;34m()\u001b[0m\n\u001b[1;32m----> 1\u001b[0m a \u001b[38;5;241m=\u001b[39m \u001b[43mbuah\u001b[49m\u001b[38;5;241;43m.\u001b[39;49m\u001b[43msplit\u001b[49m()\n",
      "\u001b[1;31mAttributeError\u001b[0m: 'list' object has no attribute 'split'"
     ]
    }
   ],
   "source": [
    "a = buah.split()"
   ]
  },
  {
   "cell_type": "code",
   "execution_count": 17,
   "id": "ada50663",
   "metadata": {},
   "outputs": [
    {
     "name": "stdout",
     "output_type": "stream",
     "text": [
      "Hello\n"
     ]
    }
   ],
   "source": [
    "#Tuliskan program python untuk mengganti list karakter di bawah ini ke dalam output string Hello\n",
    "\n",
    "karakter=\"Hello\"\n",
    "print(karakter)"
   ]
  },
  {
   "cell_type": "code",
   "execution_count": 18,
   "id": "2b92cf00",
   "metadata": {},
   "outputs": [],
   "source": [
    "kata= karakter.split()"
   ]
  },
  {
   "cell_type": "code",
   "execution_count": 19,
   "id": "3d27f236",
   "metadata": {},
   "outputs": [
    {
     "name": "stdout",
     "output_type": "stream",
     "text": [
      "['Hello']\n"
     ]
    }
   ],
   "source": [
    "print(kata)"
   ]
  },
  {
   "cell_type": "code",
   "execution_count": 14,
   "id": "4b65d142",
   "metadata": {},
   "outputs": [
    {
     "name": "stdout",
     "output_type": "stream",
     "text": [
      "Apel Anggur Pisang Mangga Jambu\n"
     ]
    }
   ],
   "source": [
    "#Tuliskan program python untuk menggabungkan list buah di bawah ini dengan simbol \"-\"\n",
    "\n",
    "buah = \"Apel Anggur Pisang Mangga Jambu\"\n",
    "print(buah)"
   ]
  },
  {
   "cell_type": "code",
   "execution_count": 15,
   "id": "b505b8b9",
   "metadata": {},
   "outputs": [],
   "source": [
    "kata = buah.split()"
   ]
  },
  {
   "cell_type": "code",
   "execution_count": 16,
   "id": "11d600cd",
   "metadata": {},
   "outputs": [
    {
     "name": "stdout",
     "output_type": "stream",
     "text": [
      "['Apel', 'Anggur', 'Pisang', 'Mangga', 'Jambu']\n"
     ]
    }
   ],
   "source": [
    "print(kata)"
   ]
  }
 ],
 "metadata": {
  "kernelspec": {
   "display_name": "Python 3 (ipykernel)",
   "language": "python",
   "name": "python3"
  },
  "language_info": {
   "codemirror_mode": {
    "name": "ipython",
    "version": 3
   },
   "file_extension": ".py",
   "mimetype": "text/x-python",
   "name": "python",
   "nbconvert_exporter": "python",
   "pygments_lexer": "ipython3",
   "version": "3.9.7"
  }
 },
 "nbformat": 4,
 "nbformat_minor": 5
}
